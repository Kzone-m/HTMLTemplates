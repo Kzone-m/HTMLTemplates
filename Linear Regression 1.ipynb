{
 "cells": [
  {
   "cell_type": "code",
   "execution_count": 1,
   "metadata": {
    "collapsed": true
   },
   "outputs": [],
   "source": [
    "import numpy as np\n",
    "import matplotlib.pyplot as plt"
   ]
  },
  {
   "cell_type": "code",
   "execution_count": 3,
   "metadata": {
    "collapsed": false
   },
   "outputs": [],
   "source": [
    "X = np.array([0.02, 0.12, 0.19, 0.27, 0.47, 0.51, 0.64, 0.84, 0.88, 0.99])\n",
    "t = np.array([0.05, 0.87, 0.94, 0.92, 0.54, -0.11, -0.78, -0.89, -0.79, -0.04])"
   ]
  },
  {
   "cell_type": "code",
   "execution_count": 4,
   "metadata": {
    "collapsed": true
   },
   "outputs": [],
   "source": [
    "def phi(X,m):\n",
    "    return [X**i for i in range(m)]"
   ]
  },
  {
   "cell_type": "code",
   "execution_count": 9,
   "metadata": {
    "collapsed": false
   },
   "outputs": [],
   "source": [
    "#np.array([phi(x, m=3) for x in X])"
   ]
  },
  {
   "cell_type": "code",
   "execution_count": 7,
   "metadata": {
    "collapsed": true
   },
   "outputs": [],
   "source": [
    "PHI = np.array([phi(x, m=4) for x in X])"
   ]
  },
  {
   "cell_type": "code",
   "execution_count": 8,
   "metadata": {
    "collapsed": false
   },
   "outputs": [
    {
     "data": {
      "text/plain": [
       "array([[  1.00000000e+00,   2.00000000e-02,   4.00000000e-04,\n",
       "          8.00000000e-06],\n",
       "       [  1.00000000e+00,   1.20000000e-01,   1.44000000e-02,\n",
       "          1.72800000e-03],\n",
       "       [  1.00000000e+00,   1.90000000e-01,   3.61000000e-02,\n",
       "          6.85900000e-03],\n",
       "       [  1.00000000e+00,   2.70000000e-01,   7.29000000e-02,\n",
       "          1.96830000e-02],\n",
       "       [  1.00000000e+00,   4.70000000e-01,   2.20900000e-01,\n",
       "          1.03823000e-01],\n",
       "       [  1.00000000e+00,   5.10000000e-01,   2.60100000e-01,\n",
       "          1.32651000e-01],\n",
       "       [  1.00000000e+00,   6.40000000e-01,   4.09600000e-01,\n",
       "          2.62144000e-01],\n",
       "       [  1.00000000e+00,   8.40000000e-01,   7.05600000e-01,\n",
       "          5.92704000e-01],\n",
       "       [  1.00000000e+00,   8.80000000e-01,   7.74400000e-01,\n",
       "          6.81472000e-01],\n",
       "       [  1.00000000e+00,   9.90000000e-01,   9.80100000e-01,\n",
       "          9.70299000e-01]])"
      ]
     },
     "execution_count": 8,
     "metadata": {},
     "output_type": "execute_result"
    }
   ],
   "source": [
    "PHI"
   ]
  },
  {
   "cell_type": "code",
   "execution_count": 12,
   "metadata": {
    "collapsed": false
   },
   "outputs": [],
   "source": [
    "w = np.linalg.solve(np.dot(PHI.T, PHI), np.dot(PHI.T, t))"
   ]
  },
  {
   "cell_type": "code",
   "execution_count": 14,
   "metadata": {
    "collapsed": false
   },
   "outputs": [
    {
     "data": {
      "text/plain": [
       "array([ -0.18034286,  12.00494583, -34.3075481 ,  22.56306413])"
      ]
     },
     "execution_count": 14,
     "metadata": {},
     "output_type": "execute_result"
    }
   ],
   "source": [
    "w"
   ]
  },
  {
   "cell_type": "code",
   "execution_count": 15,
   "metadata": {
    "collapsed": true
   },
   "outputs": [],
   "source": [
    "def f(w, x):\n",
    "    return np.dot(w, phi(x, m=4))"
   ]
  },
  {
   "cell_type": "code",
   "execution_count": null,
   "metadata": {
    "collapsed": true
   },
   "outputs": [],
   "source": [
    "xlist = np.arange(0,  1, 0.01)\n",
    "ylist = [f(w,x) for x in xlist]\n",
    "plt.plot(xlist, ylist)\n",
    "plt.plot(X, t, 'o')\n",
    "plt.show()"
   ]
  },
  {
   "cell_type": "code",
   "execution_count": 1,
   "metadata": {
    "collapsed": true
   },
   "outputs": [],
   "source": [
    "#sample\n",
    "import numpy as np"
   ]
  },
  {
   "cell_type": "code",
   "execution_count": 2,
   "metadata": {
    "collapsed": true
   },
   "outputs": [],
   "source": [
    "a = np.array([[1,2,3],[4,5,6],[7,8,9]])"
   ]
  },
  {
   "cell_type": "code",
   "execution_count": 3,
   "metadata": {
    "collapsed": false
   },
   "outputs": [
    {
     "data": {
      "text/plain": [
       "array([[1, 2, 3],\n",
       "       [4, 5, 6],\n",
       "       [7, 8, 9]])"
      ]
     },
     "execution_count": 3,
     "metadata": {},
     "output_type": "execute_result"
    }
   ],
   "source": [
    "a"
   ]
  },
  {
   "cell_type": "code",
   "execution_count": 14,
   "metadata": {
    "collapsed": false
   },
   "outputs": [],
   "source": [
    "b = np.array([[9],[8],[7]])"
   ]
  },
  {
   "cell_type": "code",
   "execution_count": 15,
   "metadata": {
    "collapsed": false
   },
   "outputs": [
    {
     "data": {
      "text/plain": [
       "array([[9],\n",
       "       [8],\n",
       "       [7]])"
      ]
     },
     "execution_count": 15,
     "metadata": {},
     "output_type": "execute_result"
    }
   ],
   "source": [
    "b"
   ]
  },
  {
   "cell_type": "code",
   "execution_count": 20,
   "metadata": {
    "collapsed": false
   },
   "outputs": [
    {
     "data": {
      "text/plain": [
       "array([[  1.53333333],\n",
       "       [-13.06666667],\n",
       "       [ 11.2       ]])"
      ]
     },
     "execution_count": 20,
     "metadata": {},
     "output_type": "execute_result"
    }
   ],
   "source": [
    "np.linalg.solve(a,b)"
   ]
  },
  {
   "cell_type": "code",
   "execution_count": 21,
   "metadata": {
    "collapsed": true
   },
   "outputs": [],
   "source": [
    "b = np.array([[1,4,3],[7,5,6],[9,8,9]])"
   ]
  },
  {
   "cell_type": "code",
   "execution_count": 22,
   "metadata": {
    "collapsed": false
   },
   "outputs": [
    {
     "data": {
      "text/plain": [
       "array([[ 0, -2,  0],\n",
       "       [-3,  0,  0],\n",
       "       [-2,  0,  0]])"
      ]
     },
     "execution_count": 22,
     "metadata": {},
     "output_type": "execute_result"
    }
   ],
   "source": [
    "a - b"
   ]
  },
  {
   "cell_type": "code",
   "execution_count": 23,
   "metadata": {
    "collapsed": true
   },
   "outputs": [],
   "source": [
    "def sample(a,b):\n",
    "    c = a * b\n",
    "    def f(A):\n",
    "        return 10 * A\n",
    "    return f, c"
   ]
  },
  {
   "cell_type": "code",
   "execution_count": 24,
   "metadata": {
    "collapsed": true
   },
   "outputs": [],
   "source": [
    "a = 10"
   ]
  },
  {
   "cell_type": "code",
   "execution_count": 25,
   "metadata": {
    "collapsed": true
   },
   "outputs": [],
   "source": [
    "b = 20"
   ]
  },
  {
   "cell_type": "code",
   "execution_count": 26,
   "metadata": {
    "collapsed": false
   },
   "outputs": [
    {
     "data": {
      "text/plain": [
       "(<function __main__.f>, 200)"
      ]
     },
     "execution_count": 26,
     "metadata": {},
     "output_type": "execute_result"
    }
   ],
   "source": [
    "sample(10,20)"
   ]
  },
  {
   "cell_type": "code",
   "execution_count": 27,
   "metadata": {
    "collapsed": false
   },
   "outputs": [
    {
     "data": {
      "text/plain": [
       "'\\nif __name__ == \\'__main__\\':\\n    train_set = create_dataset(N)\\n    test_set = create_dataset(N)\\n    df_ws = DataFrame()\\n\\n    # \\xe5\\xa4\\x9a\\xe9\\xa0\\x85\\xe5\\xbc\\x8f\\xe8\\xbf\\x91\\xe4\\xbc\\xbc\\xe3\\x81\\xae\\xe6\\x9b\\xb2\\xe7\\xb7\\x9a\\xe3\\x82\\x92\\xe6\\xb1\\x82\\xe3\\x82\\x81\\xe3\\x81\\xa6\\xe8\\xa1\\xa8\\xe7\\xa4\\xba\\n    fig = plt.figure()\\n    for c, m in enumerate(M):\\n        f, ws = resolve(train_set, m)\\n        df_ws = df_ws.append(Series(ws,name=\"M=%d\" % m))\\n\\n        subplot = fig.add_subplot(2,2,c+1)\\n        subplot.set_xlim(-0.05,1.05)\\n        subplot.set_ylim(-1.5,1.5)\\n        subplot.set_title(\"M=%d\" % m)\\n\\n        # \\xe3\\x83\\x88\\xe3\\x83\\xac\\xe3\\x83\\xbc\\xe3\\x83\\x8b\\xe3\\x83\\xb3\\xe3\\x82\\xb0\\xe3\\x82\\xbb\\xe3\\x83\\x83\\xe3\\x83\\x88\\xe3\\x82\\x92\\xe8\\xa1\\xa8\\xe7\\xa4\\xba\\n        subplot.scatter(train_set.x, train_set.y, marker=\\'o\\', color=\\'blue\\')\\n\\n        # \\xe7\\x9c\\x9f\\xe3\\x81\\xae\\xe6\\x9b\\xb2\\xe7\\xb7\\x9a\\xe3\\x82\\x92\\xe8\\xa1\\xa8\\xe7\\xa4\\xba\\n        linex = np.linspace(0,1,101)\\n        liney = np.sin(2*np.pi*linex)\\n        subplot.plot(linex, liney, color=\\'green\\', linestyle=\\'--\\')\\n\\n        # \\xe5\\xa4\\x9a\\xe9\\xa0\\x85\\xe5\\xbc\\x8f\\xe8\\xbf\\x91\\xe4\\xbc\\xbc\\xe3\\x81\\xae\\xe6\\x9b\\xb2\\xe7\\xb7\\x9a\\xe3\\x82\\x92\\xe8\\xa1\\xa8\\xe7\\xa4\\xba\\n        linex = np.linspace(0,1,101)\\n        liney = f(linex)\\n        label = \"E(RMS)=%.2f\" % rms_error(train_set, f)\\n        subplot.plot(linex, liney, color=\\'red\\', label=label)\\n        subplot.legend(loc=1)\\n\\n    # \\xe4\\xbf\\x82\\xe6\\x95\\xb0\\xe3\\x81\\xae\\xe5\\x80\\xa4\\xe3\\x82\\x92\\xe8\\xa1\\xa8\\xe7\\xa4\\xba\\n    print \"Table of the coefficients\"\\n    print df_ws.transpose()\\n    fig.show()\\n\\n    # \\xe3\\x83\\x88\\xe3\\x83\\xac\\xe3\\x83\\xbc\\xe3\\x83\\x8b\\xe3\\x83\\xb3\\xe3\\x82\\xb0\\xe3\\x82\\xbb\\xe3\\x83\\x83\\xe3\\x83\\x88\\xe3\\x81\\xa8\\xe3\\x83\\x86\\xe3\\x82\\xb9\\xe3\\x83\\x88\\xe3\\x82\\xbb\\xe3\\x83\\x83\\xe3\\x83\\x88\\xe3\\x81\\xa7\\xe3\\x81\\xae\\xe8\\xaa\\xa4\\xe5\\xb7\\xae\\xe3\\x81\\xae\\xe5\\xa4\\x89\\xe5\\x8c\\x96\\xe3\\x82\\x92\\xe8\\xa1\\xa8\\xe7\\xa4\\xba\\n    df = DataFrame(columns=[\\'Training set\\',\\'Test set\\'])\\n    for m in range(0,10):   # \\xe5\\xa4\\x9a\\xe9\\xa0\\x85\\xe5\\xbc\\x8f\\xe3\\x81\\xae\\xe6\\xac\\xa1\\xe6\\x95\\xb0\\n        f, ws = resolve(train_set, m)\\n        train_error = rms_error(train_set, f)\\n        test_error = rms_error(test_set, f)\\n        df = df.append(\\n                Series([train_error, test_error],\\n                    index=[\\'Training set\\',\\'Test set\\']),\\n                ignore_index=True)\\n    df.plot(title=\\'RMS Error\\', style=[\\'-\\',\\'--\\'], grid=True, ylim=(0,0.9))\\n    plt.show()\\n'"
      ]
     },
     "execution_count": 27,
     "metadata": {},
     "output_type": "execute_result"
    }
   ],
   "source": [
    "'''\n",
    "if __name__ == '__main__':\n",
    "    train_set = create_dataset(N)\n",
    "    test_set = create_dataset(N)\n",
    "    df_ws = DataFrame()\n",
    "\n",
    "    # 多項式近似の曲線を求めて表示\n",
    "    fig = plt.figure()\n",
    "    for c, m in enumerate(M):\n",
    "        f, ws = resolve(train_set, m)\n",
    "        df_ws = df_ws.append(Series(ws,name=\"M=%d\" % m))\n",
    "\n",
    "        subplot = fig.add_subplot(2,2,c+1)\n",
    "        subplot.set_xlim(-0.05,1.05)\n",
    "        subplot.set_ylim(-1.5,1.5)\n",
    "        subplot.set_title(\"M=%d\" % m)\n",
    "\n",
    "        # トレーニングセットを表示\n",
    "        subplot.scatter(train_set.x, train_set.y, marker='o', color='blue')\n",
    "\n",
    "        # 真の曲線を表示\n",
    "        linex = np.linspace(0,1,101)\n",
    "        liney = np.sin(2*np.pi*linex)\n",
    "        subplot.plot(linex, liney, color='green', linestyle='--')\n",
    "\n",
    "        # 多項式近似の曲線を表示\n",
    "        linex = np.linspace(0,1,101)\n",
    "        liney = f(linex)\n",
    "        label = \"E(RMS)=%.2f\" % rms_error(train_set, f)\n",
    "        subplot.plot(linex, liney, color='red', label=label)\n",
    "        subplot.legend(loc=1)\n",
    "\n",
    "    # 係数の値を表示\n",
    "    print \"Table of the coefficients\"\n",
    "    print df_ws.transpose()\n",
    "    fig.show()\n",
    "\n",
    "    # トレーニングセットとテストセットでの誤差の変化を表示\n",
    "    df = DataFrame(columns=['Training set','Test set'])\n",
    "    for m in range(0,10):   # 多項式の次数\n",
    "        f, ws = resolve(train_set, m)\n",
    "        train_error = rms_error(train_set, f)\n",
    "        test_error = rms_error(test_set, f)\n",
    "        df = df.append(\n",
    "                Series([train_error, test_error],\n",
    "                    index=['Training set','Test set']),\n",
    "                ignore_index=True)\n",
    "    df.plot(title='RMS Error', style=['-','--'], grid=True, ylim=(0,0.9))\n",
    "    plt.show()\n",
    "'''"
   ]
  },
  {
   "cell_type": "code",
   "execution_count": 36,
   "metadata": {
    "collapsed": true
   },
   "outputs": [],
   "source": [
    "import numpy as np\n",
    "import matplotlib.pyplot as plt\n",
    "import pandas as pd\n",
    "from pandas import Series, DataFrame\n",
    "from numpy.random import normal\n",
    "\n",
    "def create_dataset(num):\n",
    "    dataset = DataFrame(columns=['x','y'])\n",
    "    for i in range(num):\n",
    "        x = float(i)/float(num-1)\n",
    "        y = np.sin(2*np.pi*x) + normal(scale=0.3)\n",
    "        dataset = dataset.append(Series([x,y], index=['x','y']),\n",
    "                                 ignore_index=True)\n",
    "    return dataset\n",
    "\n",
    "def rms_error(dataset):\n",
    "    err = 0.0\n",
    "    for index, line in dataset.iterrows():\n",
    "        print index, line\n",
    "        x, y = line.x, line.y\n",
    "        print x,y\n",
    "        #err += 0.5 * (y - f(x))**2\n",
    "    return err"
   ]
  },
  {
   "cell_type": "code",
   "execution_count": 37,
   "metadata": {
    "collapsed": true
   },
   "outputs": [],
   "source": [
    "N=10            \n",
    "M=[0,1,3,9]\n",
    "train_set = create_dataset(N)"
   ]
  },
  {
   "cell_type": "code",
   "execution_count": 38,
   "metadata": {
    "collapsed": false
   },
   "outputs": [
    {
     "data": {
      "text/html": [
       "<div>\n",
       "<table border=\"1\" class=\"dataframe\">\n",
       "  <thead>\n",
       "    <tr style=\"text-align: right;\">\n",
       "      <th></th>\n",
       "      <th>x</th>\n",
       "      <th>y</th>\n",
       "    </tr>\n",
       "  </thead>\n",
       "  <tbody>\n",
       "    <tr>\n",
       "      <th>0</th>\n",
       "      <td>0.000000</td>\n",
       "      <td>-0.263050</td>\n",
       "    </tr>\n",
       "    <tr>\n",
       "      <th>1</th>\n",
       "      <td>0.111111</td>\n",
       "      <td>0.447216</td>\n",
       "    </tr>\n",
       "    <tr>\n",
       "      <th>2</th>\n",
       "      <td>0.222222</td>\n",
       "      <td>1.252177</td>\n",
       "    </tr>\n",
       "    <tr>\n",
       "      <th>3</th>\n",
       "      <td>0.333333</td>\n",
       "      <td>0.958030</td>\n",
       "    </tr>\n",
       "    <tr>\n",
       "      <th>4</th>\n",
       "      <td>0.444444</td>\n",
       "      <td>0.813036</td>\n",
       "    </tr>\n",
       "    <tr>\n",
       "      <th>5</th>\n",
       "      <td>0.555556</td>\n",
       "      <td>-0.173796</td>\n",
       "    </tr>\n",
       "    <tr>\n",
       "      <th>6</th>\n",
       "      <td>0.666667</td>\n",
       "      <td>-0.919094</td>\n",
       "    </tr>\n",
       "    <tr>\n",
       "      <th>7</th>\n",
       "      <td>0.777778</td>\n",
       "      <td>-0.688628</td>\n",
       "    </tr>\n",
       "    <tr>\n",
       "      <th>8</th>\n",
       "      <td>0.888889</td>\n",
       "      <td>-0.638265</td>\n",
       "    </tr>\n",
       "    <tr>\n",
       "      <th>9</th>\n",
       "      <td>1.000000</td>\n",
       "      <td>0.071729</td>\n",
       "    </tr>\n",
       "  </tbody>\n",
       "</table>\n",
       "</div>"
      ],
      "text/plain": [
       "          x         y\n",
       "0  0.000000 -0.263050\n",
       "1  0.111111  0.447216\n",
       "2  0.222222  1.252177\n",
       "3  0.333333  0.958030\n",
       "4  0.444444  0.813036\n",
       "5  0.555556 -0.173796\n",
       "6  0.666667 -0.919094\n",
       "7  0.777778 -0.688628\n",
       "8  0.888889 -0.638265\n",
       "9  1.000000  0.071729"
      ]
     },
     "execution_count": 38,
     "metadata": {},
     "output_type": "execute_result"
    }
   ],
   "source": [
    "train_set"
   ]
  },
  {
   "cell_type": "code",
   "execution_count": 39,
   "metadata": {
    "collapsed": false
   },
   "outputs": [
    {
     "name": "stdout",
     "output_type": "stream",
     "text": [
      "0 x    0.00000\n",
      "y   -0.26305\n",
      "Name: 0, dtype: float64\n",
      "0.0 -0.263049652401\n",
      "1 x    0.111111\n",
      "y    0.447216\n",
      "Name: 1, dtype: float64\n",
      "0.111111111111 0.447215653894\n",
      "2 x    0.222222\n",
      "y    1.252177\n",
      "Name: 2, dtype: float64\n",
      "0.222222222222 1.2521768713\n",
      "3 x    0.333333\n",
      "y    0.958030\n",
      "Name: 3, dtype: float64\n",
      "0.333333333333 0.958030485627\n",
      "4 x    0.444444\n",
      "y    0.813036\n",
      "Name: 4, dtype: float64\n",
      "0.444444444444 0.813035783992\n",
      "5 x    0.555556\n",
      "y   -0.173796\n",
      "Name: 5, dtype: float64\n",
      "0.555555555556 -0.173795816426\n",
      "6 x    0.666667\n",
      "y   -0.919094\n",
      "Name: 6, dtype: float64\n",
      "0.666666666667 -0.919094392605\n",
      "7 x    0.777778\n",
      "y   -0.688628\n",
      "Name: 7, dtype: float64\n",
      "0.777777777778 -0.688627859332\n",
      "8 x    0.888889\n",
      "y   -0.638265\n",
      "Name: 8, dtype: float64\n",
      "0.888888888889 -0.638265346649\n",
      "9 x    1.000000\n",
      "y    0.071729\n",
      "Name: 9, dtype: float64\n",
      "1.0 0.0717288139394\n"
     ]
    },
    {
     "data": {
      "text/plain": [
       "0.0"
      ]
     },
     "execution_count": 39,
     "metadata": {},
     "output_type": "execute_result"
    }
   ],
   "source": [
    "rms_error(train_set)"
   ]
  },
  {
   "cell_type": "code",
   "execution_count": 40,
   "metadata": {
    "collapsed": true
   },
   "outputs": [],
   "source": [
    "train_set.plot(title = 'RMS Error', style=['-','--'], grid=True, ylim=(0,0.9))\n",
    "plt.show()"
   ]
  },
  {
   "cell_type": "code",
   "execution_count": 43,
   "metadata": {
    "collapsed": true
   },
   "outputs": [],
   "source": [
    "df_ws = DataFrame()"
   ]
  },
  {
   "cell_type": "code",
   "execution_count": 45,
   "metadata": {
    "collapsed": false
   },
   "outputs": [
    {
     "data": {
      "text/html": [
       "<div>\n",
       "<table border=\"1\" class=\"dataframe\">\n",
       "  <thead>\n",
       "    <tr style=\"text-align: right;\">\n",
       "      <th></th>\n",
       "    </tr>\n",
       "  </thead>\n",
       "  <tbody>\n",
       "  </tbody>\n",
       "</table>\n",
       "</div>"
      ],
      "text/plain": [
       "Empty DataFrame\n",
       "Columns: []\n",
       "Index: []"
      ]
     },
     "execution_count": 45,
     "metadata": {},
     "output_type": "execute_result"
    }
   ],
   "source": [
    "df_ws"
   ]
  },
  {
   "cell_type": "code",
   "execution_count": 46,
   "metadata": {
    "collapsed": true
   },
   "outputs": [],
   "source": [
    "t = train_set.y"
   ]
  },
  {
   "cell_type": "code",
   "execution_count": 47,
   "metadata": {
    "collapsed": false
   },
   "outputs": [
    {
     "data": {
      "text/plain": [
       "0   -0.263050\n",
       "1    0.447216\n",
       "2    1.252177\n",
       "3    0.958030\n",
       "4    0.813036\n",
       "5   -0.173796\n",
       "6   -0.919094\n",
       "7   -0.688628\n",
       "8   -0.638265\n",
       "9    0.071729\n",
       "Name: y, dtype: float64"
      ]
     },
     "execution_count": 47,
     "metadata": {},
     "output_type": "execute_result"
    }
   ],
   "source": [
    "t"
   ]
  },
  {
   "cell_type": "code",
   "execution_count": 49,
   "metadata": {
    "collapsed": false
   },
   "outputs": [],
   "source": [
    "phi = DataFrame()"
   ]
  },
  {
   "cell_type": "code",
   "execution_count": 53,
   "metadata": {
    "collapsed": false
   },
   "outputs": [],
   "source": [
    "p=t\n",
    "p.name = 'a'\n",
    "phi = pd.concat([phi,p],axis=1)"
   ]
  },
  {
   "cell_type": "code",
   "execution_count": 54,
   "metadata": {
    "collapsed": false
   },
   "outputs": [
    {
     "data": {
      "text/html": [
       "<div>\n",
       "<table border=\"1\" class=\"dataframe\">\n",
       "  <thead>\n",
       "    <tr style=\"text-align: right;\">\n",
       "      <th></th>\n",
       "      <th>a</th>\n",
       "    </tr>\n",
       "  </thead>\n",
       "  <tbody>\n",
       "    <tr>\n",
       "      <th>0</th>\n",
       "      <td>-0.263050</td>\n",
       "    </tr>\n",
       "    <tr>\n",
       "      <th>1</th>\n",
       "      <td>0.447216</td>\n",
       "    </tr>\n",
       "    <tr>\n",
       "      <th>2</th>\n",
       "      <td>1.252177</td>\n",
       "    </tr>\n",
       "    <tr>\n",
       "      <th>3</th>\n",
       "      <td>0.958030</td>\n",
       "    </tr>\n",
       "    <tr>\n",
       "      <th>4</th>\n",
       "      <td>0.813036</td>\n",
       "    </tr>\n",
       "    <tr>\n",
       "      <th>5</th>\n",
       "      <td>-0.173796</td>\n",
       "    </tr>\n",
       "    <tr>\n",
       "      <th>6</th>\n",
       "      <td>-0.919094</td>\n",
       "    </tr>\n",
       "    <tr>\n",
       "      <th>7</th>\n",
       "      <td>-0.688628</td>\n",
       "    </tr>\n",
       "    <tr>\n",
       "      <th>8</th>\n",
       "      <td>-0.638265</td>\n",
       "    </tr>\n",
       "    <tr>\n",
       "      <th>9</th>\n",
       "      <td>0.071729</td>\n",
       "    </tr>\n",
       "  </tbody>\n",
       "</table>\n",
       "</div>"
      ],
      "text/plain": [
       "          a\n",
       "0 -0.263050\n",
       "1  0.447216\n",
       "2  1.252177\n",
       "3  0.958030\n",
       "4  0.813036\n",
       "5 -0.173796\n",
       "6 -0.919094\n",
       "7 -0.688628\n",
       "8 -0.638265\n",
       "9  0.071729"
      ]
     },
     "execution_count": 54,
     "metadata": {},
     "output_type": "execute_result"
    }
   ],
   "source": [
    "phi"
   ]
  },
  {
   "cell_type": "code",
   "execution_count": 55,
   "metadata": {
    "collapsed": false
   },
   "outputs": [
    {
     "data": {
      "text/plain": [
       "array([[ 0.06919512, -0.11763992, -0.32938469, -0.25200959, -0.21386878,\n",
       "         0.04571693,  0.24176746,  0.18114332,  0.16789548, -0.01886824],\n",
       "       [-0.11763992,  0.20000184,  0.5599931 ,  0.42844623,  0.36360233,\n",
       "        -0.07772421, -0.4110334 , -0.30796516, -0.28544225,  0.03207825],\n",
       "       [-0.32938469,  0.5599931 ,  1.56794692,  1.19962362,  1.0180646 ,\n",
       "        -0.2176231 , -1.15086874, -0.86228388, -0.7992211 ,  0.08981716],\n",
       "       [-0.25200959,  0.42844623,  1.19962362,  0.91782241,  0.77891307,\n",
       "        -0.16650169, -0.88052045, -0.65972648, -0.61147766,  0.06871839],\n",
       "       [-0.21386878,  0.36360233,  1.0180646 ,  0.77891307,  0.66102719,\n",
       "        -0.14130222, -0.74725663, -0.55987909, -0.51893257,  0.05831809],\n",
       "       [ 0.04571693, -0.07772421, -0.2176231 , -0.16650169, -0.14130222,\n",
       "         0.03020499,  0.15973476,  0.11968064,  0.11092785, -0.01246617],\n",
       "       [ 0.24176746, -0.4110334 , -1.15086874, -0.88052045, -0.74725663,\n",
       "         0.15973476,  0.8447345 ,  0.632914  ,  0.5866261 , -0.06592555],\n",
       "       [ 0.18114332, -0.30796516, -0.86228388, -0.65972648, -0.55987909,\n",
       "         0.11968064,  0.632914  ,  0.47420833,  0.4395273 , -0.04939446],\n",
       "       [ 0.16789548, -0.28544225, -0.7992211 , -0.61147766, -0.51893257,\n",
       "         0.11092785,  0.5866261 ,  0.4395273 ,  0.40738265, -0.04578202],\n",
       "       [-0.01886824,  0.03207825,  0.08981716,  0.06871839,  0.05831809,\n",
       "        -0.01246617, -0.06592555, -0.04939446, -0.04578202,  0.00514502]])"
      ]
     },
     "execution_count": 55,
     "metadata": {},
     "output_type": "execute_result"
    }
   ],
   "source": [
    "np.dot(phi, phi.T)"
   ]
  },
  {
   "cell_type": "code",
   "execution_count": 57,
   "metadata": {
    "collapsed": false
   },
   "outputs": [],
   "source": [
    "Sample = Series(p,name='a')"
   ]
  },
  {
   "cell_type": "code",
   "execution_count": 58,
   "metadata": {
    "collapsed": false
   },
   "outputs": [
    {
     "data": {
      "text/plain": [
       "0   -0.263050\n",
       "1    0.447216\n",
       "2    1.252177\n",
       "3    0.958030\n",
       "4    0.813036\n",
       "5   -0.173796\n",
       "6   -0.919094\n",
       "7   -0.688628\n",
       "8   -0.638265\n",
       "9    0.071729\n",
       "Name: a, dtype: float64"
      ]
     },
     "execution_count": 58,
     "metadata": {},
     "output_type": "execute_result"
    }
   ],
   "source": [
    "Sample"
   ]
  },
  {
   "cell_type": "code",
   "execution_count": 59,
   "metadata": {
    "collapsed": true
   },
   "outputs": [],
   "source": [
    "df_ws = DataFrame()"
   ]
  },
  {
   "cell_type": "code",
   "execution_count": 60,
   "metadata": {
    "collapsed": true
   },
   "outputs": [],
   "source": [
    "df_ws = df_ws.append(Sample)"
   ]
  },
  {
   "cell_type": "code",
   "execution_count": 65,
   "metadata": {
    "collapsed": false
   },
   "outputs": [
    {
     "data": {
      "text/html": [
       "<div>\n",
       "<table border=\"1\" class=\"dataframe\">\n",
       "  <thead>\n",
       "    <tr style=\"text-align: right;\">\n",
       "      <th></th>\n",
       "      <th>0</th>\n",
       "      <th>1</th>\n",
       "      <th>2</th>\n",
       "      <th>3</th>\n",
       "      <th>4</th>\n",
       "      <th>5</th>\n",
       "      <th>6</th>\n",
       "      <th>7</th>\n",
       "      <th>8</th>\n",
       "      <th>9</th>\n",
       "    </tr>\n",
       "  </thead>\n",
       "  <tbody>\n",
       "    <tr>\n",
       "      <th>a</th>\n",
       "      <td>-0.26305</td>\n",
       "      <td>0.447216</td>\n",
       "      <td>1.252177</td>\n",
       "      <td>0.95803</td>\n",
       "      <td>0.813036</td>\n",
       "      <td>-0.173796</td>\n",
       "      <td>-0.919094</td>\n",
       "      <td>-0.688628</td>\n",
       "      <td>-0.638265</td>\n",
       "      <td>0.071729</td>\n",
       "    </tr>\n",
       "  </tbody>\n",
       "</table>\n",
       "</div>"
      ],
      "text/plain": [
       "         0         1         2        3         4         5         6  \\\n",
       "a -0.26305  0.447216  1.252177  0.95803  0.813036 -0.173796 -0.919094   \n",
       "\n",
       "          7         8         9  \n",
       "a -0.688628 -0.638265  0.071729  "
      ]
     },
     "execution_count": 65,
     "metadata": {},
     "output_type": "execute_result"
    }
   ],
   "source": [
    "df_ws"
   ]
  },
  {
   "cell_type": "code",
   "execution_count": 66,
   "metadata": {
    "collapsed": true
   },
   "outputs": [],
   "source": [
    "df = DataFrame(columns=['Training set','Test set'])"
   ]
  },
  {
   "cell_type": "code",
   "execution_count": 67,
   "metadata": {
    "collapsed": false
   },
   "outputs": [
    {
     "data": {
      "text/html": [
       "<div>\n",
       "<table border=\"1\" class=\"dataframe\">\n",
       "  <thead>\n",
       "    <tr style=\"text-align: right;\">\n",
       "      <th></th>\n",
       "      <th>Training set</th>\n",
       "      <th>Test set</th>\n",
       "    </tr>\n",
       "  </thead>\n",
       "  <tbody>\n",
       "  </tbody>\n",
       "</table>\n",
       "</div>"
      ],
      "text/plain": [
       "Empty DataFrame\n",
       "Columns: [Training set, Test set]\n",
       "Index: []"
      ]
     },
     "execution_count": 67,
     "metadata": {},
     "output_type": "execute_result"
    }
   ],
   "source": [
    "df"
   ]
  },
  {
   "cell_type": "code",
   "execution_count": null,
   "metadata": {
    "collapsed": true
   },
   "outputs": [],
   "source": []
  }
 ],
 "metadata": {
  "kernelspec": {
   "display_name": "Python 2",
   "language": "python",
   "name": "python2"
  },
  "language_info": {
   "codemirror_mode": {
    "name": "ipython",
    "version": 2
   },
   "file_extension": ".py",
   "mimetype": "text/x-python",
   "name": "python",
   "nbconvert_exporter": "python",
   "pygments_lexer": "ipython2",
   "version": "2.7.11"
  }
 },
 "nbformat": 4,
 "nbformat_minor": 0
}
