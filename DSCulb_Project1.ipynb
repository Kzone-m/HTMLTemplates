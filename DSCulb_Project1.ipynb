{
 "cells": [
  {
   "cell_type": "markdown",
   "metadata": {},
   "source": [
    "<div style=\"text-align: center;\">\n",
    "<font size='6'>DVC Data Science Club Project1</font><br><br>\n",
    "<font size='5'>Topic: \"Square Error\"\n",
    "</div>\n",
    "\n"
   ]
  },
  {
   "cell_type": "markdown",
   "metadata": {},
   "source": [
    "<font size=\"3\">\n",
    "Welcome to DVC Data Sciece Club and Our Series of Projects.<br>\n",
    "Our first project is going to deal with \"Square Error.\"<br>\n",
    "To imagine about what Square Error is and how we can apply this knowledge, let's think the following story.<br><br> \n",
    "\n",
    "Suppose we have a date set about house price of Plesant Hill, and it consists of two variable sets, 'Xs' and 'Ys'.<br>\n",
    "In a set 'Xs', each x represents age of a house and<br>\n",
    "In a set 'Ys', each y stands for price of a house corresponding each x.<br><br>\n",
    "\n",
    "From that point, given a date set, we can assume there is a functional relation behind a date set<br>\n",
    "and if we can find the relationship, we can also predict new price of a house when given new age of a house. <br><br>\n",
    "\n",
    "Thus, if we want to predict output, we need to make a model, or a function like f(x) which takes an input x and outputs a reselting value.<br>\n",
    "\n",
    " \n",
    " \n",
    "Therefore, if we can set the coefficient of the function, we can make a model to predict new price of house, which is Y, from age of a new house, which is also X. \n",
    "</font>\n",
    " \n",
    "\n",
    "\n",
    "\n"
   ]
  },
  {
   "cell_type": "markdown",
   "metadata": {},
   "source": [
    "\"Description\""
   ]
  },
  {
   "cell_type": "markdown",
   "metadata": {},
   "source": [
    "<div style=\"text-align: left;\">\n",
    "<font size=\"5\">1: 誤差関数に使用する公式集</font><br><br><br>\n",
    "</div>\n",
    "\n",
    "<div style=\"text-align: left;\">\n",
    "    <font size=\"4\">①求めたい関数:</font>\n",
    "    <font size=\"3\">$$f(x) = w_0x^0 + w_1x^1 + ... + w_mx^m \\\\$$</font>\n",
    "    <br>\n",
    "\n",
    "    <font size=\"4\">②求めたいパラメーター:</font>\n",
    "    <font size=\"3\">\n",
    "        $$ w = \n",
    "        \\begin{bmatrix}\n",
    "        w_0 \\\\\n",
    "        w_1 \\\\\n",
    "        ... \\\\\n",
    "        w_m\n",
    "        \\end{bmatrix}$$\n",
    "    </font>\n",
    "    <br>\n",
    "\n",
    "    <font size=\"4\">③パラメーターを求める公式:</font>\n",
    "    <font size=\"3\">$$w = (\\Phi^T\\Phi)^{-1}\\Phi^Tt$$</font>\n",
    "    <font size=\"2\">\n",
    "    $$(\\Phi:\\: called\\: Phi\\: and \\: sometimes \\: represnted\\: as\\:\"φ\" \\: in \\: later \\: work)$$\n",
    "    </font>\n",
    "    <br>\n",
    "    \n",
    "    <font size=\"4\">④パラメーターの精度確認:</font>\n",
    "    <font size=\"2\">(平方根平均二乗誤差)</font>\n",
    "    <font size=\"3\">\n",
    "    $$Erms = \\sqrt{\\frac{①}{N}}$$\n",
    "    </font><br><br><br>\n",
    "</div>\n",
    "\n",
    "<div style=\"text-align: left;\">\n",
    "<font size=\"5\">2: 誤差関数に使用する変数の詳細</font><br><br><br>\n",
    "</div>\n",
    "\n",
    "<div style=\"text-align: left;\">\n",
    "    <font size=\"4\">x : 特徴変数</font><br>\n",
    "    <font size=\"2\">　(例) 家の築年数</font><br><br>\n",
    "\n",
    "    <font size=\"4\">t : 目的変数</font><br>\n",
    "    <font size=\"2\">　(例) 家の価格</font><br><br>\n",
    "\n",
    "    <font size=\"4\">Phi or φ: パラメーターを求める公式の中で使われる</font><br>\n",
    "    <font size=\"2\">　(証明は難しいので割愛)</font><br>\n",
    "    <font size=\"3\">\n",
    "        $$ \\Phi = \n",
    "        \\begin{bmatrix}\n",
    "        x_1^0 & x_1^1 & ... & x_1^{m+1}  \\\\\n",
    "        x_2^0 & x_2^1 & ... & x_2^{m+1}  \\\\\n",
    "        ...   & ...   & ... & ... \\\\\n",
    "        x_n^0 & x_n^1 & ... & x_n^{m+1}  \\\\\n",
    "        \\end{bmatrix}$$\n",
    "    </font><br>\n",
    "    \n",
    "    <font size=\"4\">m : パラメーターの字数</font><br><br>\n",
    "    <font size=\"4\">n : トレーニングセットの次数</font><br><br><br>\n",
    "</div>"
   ]
  },
  {
   "cell_type": "markdown",
   "metadata": {},
   "source": [
    "<div style=\"text-align: left;\">\n",
    "    <font size=\"5\">3: コード実装</font><br><br>\n",
    "    <font size=\"4\">\n",
    "    <pre>\n",
    "Now, we are going to implement our first program \"Square Error\"\n",
    "Let's suppose that\n",
    "　　　\"Xs\" to be age of a house\n",
    "　　　\"Ys\" to be price of a house corresponding to each x\n",
    "\n",
    "and each value of Xs and Ys are summarized below the table\n",
    "    </pre>\n",
    "    </font>\n",
    "</div>\n",
    "\n",
    "<div>\n",
    "<font size=\"3\">\n",
    "    <table style=\"width: 100px\">\n",
    "        <tr>\n",
    "            <td>X (ys)</td>\n",
    "            <td>Y ()</td>\n",
    "        </tr>\n",
    "        <tr>\n",
    "            <td>10</td>\n",
    "            <td>500</td>\n",
    "        </tr>\n",
    "        <tr>\n",
    "            <td>20</td><td>300</td>\n",
    "        </tr>\n",
    "        <tr>\n",
    "            <td>25</td>\n",
    "            <td>270</td>\n",
    "        </tr>\n",
    "        <tr>\n",
    "            <td>27</td>\n",
    "            <td>290</td>\n",
    "        </tr>\n",
    "        <tr>\n",
    "            <td>32</td>\n",
    "            <td>240</td>\n",
    "        </tr>\n",
    "    </table>\n",
    "</font><br>\n",
    "</div>\n"
   ]
  },
  {
   "cell_type": "code",
   "execution_count": 32,
   "metadata": {
    "collapsed": true
   },
   "outputs": [],
   "source": [
    "#step0: 使用するモジュールをimportする\n",
    "import matplotlib.pyplot as plt\n",
    "%matplotlib inline\n",
    "import numpy as np\n",
    "import pandas as pd\n",
    "from pandas import Series, DataFrame"
   ]
  },
  {
   "cell_type": "code",
   "execution_count": 4,
   "metadata": {
    "collapsed": true
   },
   "outputs": [],
   "source": [
    "#step1-1: データを準備する\n",
    "X = np.array([10, 20, 25, 27, 32])\n",
    "Y = np.array([500, 300, 270, 290, 240])\n",
    "N = len(X)"
   ]
  },
  {
   "cell_type": "markdown",
   "metadata": {},
   "source": [
    "Now, <br>\n",
    "   $$X = \n",
    "   \\begin{bmatrix}\n",
    "   10 & 20 & 25 & 27 & 32  \\\\\n",
    "   \\end{bmatrix}$$\n",
    "   \n",
    "  $$Y = \n",
    "   \\begin{bmatrix}\n",
    "   500 & 300 & 270 & 290 & 240  \\\\\n",
    "   \\end{bmatrix}$$\n",
    "   \n",
    "  $$N = 5$$"
   ]
  },
  {
   "cell_type": "code",
   "execution_count": 11,
   "metadata": {
    "collapsed": false
   },
   "outputs": [
    {
     "data": {
      "image/png": "[encoded data removed]",
      "text/plain": [
       "<matplotlib.figure.Figure at 0x11727d6a0>"
      ]
     },
     "metadata": {},
     "output_type": "display_data"
    }
   ],
   "source": [
    "#step1-2: データを可視化する\n",
    "plt.scatter(X,Y, label='Each House Price', color='k', marker = '*', s = 30)\n",
    "plt.xlabel('Age of A House')\n",
    "plt.ylabel('Price of A House')\n",
    "plt.title('House Price in Pleasant Hill')\n",
    "plt.legend()\n",
    "plt.show()"
   ]
  },
  {
   "cell_type": "code",
   "execution_count": 12,
   "metadata": {
    "collapsed": false
   },
   "outputs": [],
   "source": [
    "#step2: mの次数を決める\n",
    "#注意 → m = 4の多項式の最大次数は3になる\n",
    "m = 4"
   ]
  },
  {
   "cell_type": "code",
   "execution_count": 13,
   "metadata": {
    "collapsed": false
   },
   "outputs": [
    {
     "name": "stdout",
     "output_type": "stream",
     "text": [
      "phi\n",
      "[[1, 1, 1, 1, 1], [10, 20, 25, 27, 32], [100, 400, 625, 729, 1024], [1000, 8000, 15625, 19683, 32768]]\n"
     ]
    }
   ],
   "source": [
    "#step3-1: small_φを作る\n",
    "phi = []\n",
    "for i in range(m):\n",
    "    tmp = [] \n",
    "    for s in X:\n",
    "        tmp.append(s ** i)\n",
    "    phi.append(tmp)\n",
    "print('phi')\n",
    "print(phi)"
   ]
  },
  {
   "cell_type": "markdown",
   "metadata": {},
   "source": [
    "The reason that we used \"for loop\" twice is we want to make phi or 2-dimentional array.<br>\n",
    "\n",
    "<div>\n",
    "So, in the first loop, i represents as<br>\n",
    "$$ i_0 = 0 \\\\\n",
    "   i_1 = 1 \\\\\n",
    "   ... \\\\\n",
    "   i_{m+1} = m+1 \\\\$$\n",
    "</div>\n",
    "\n",
    "and, in the second, s represents as<br>\n",
    "$$ s_0 = 10 \\\\\n",
    "   s_1 = 20 \\\\\n",
    "   s_2 = 25 \\\\\n",
    "   s_3 = 27 \\\\\n",
    "   s_4 = 32 \\\\$$\n",
    "   \n",
    "   \n",
    "to help you understand and visualize it, we will show the first, second, and last arrays caculation below...<br>\n",
    "$$ phi = \n",
    "   \\begin{bmatrix}\n",
    "   s_0^{i_0} = 10^0 & s_1^{i_0} = 20^0 & s_2^{i_0} = 25^0 & s_3^{i_0} = 27^0 & s_4^{i_0} = 32^0 \\\\\n",
    "   s_0^{i_1} = 10^1 & s_1^{i_1} = 20^1 & s_2^{i_1} = 25^1 & s_3^{i_1} = 27^1 & s_4^{i_1} = 32^1 \\\\\n",
    "   ... \\\\\n",
    "   s_0^{i_3} = 10^3 & s_1^{i_3} = 20^3 & s_2^{i_3} = 25^3 & s_3^{i_3} = 27^3 & s_4^{i_3} = 32^3 \\\\\n",
    "   \\end{bmatrix}\n",
    "$$\n",
    "\n",
    "\n",
    " \n",
    "\n",
    "\n",
    "Now, we get phi as<br>\n",
    "$$phi =\n",
    "   \\begin{bmatrix}\n",
    "   1 & 1 & 1 & 1 & 1  \\\\\n",
    "   10 & 20 & 25 & 27 & 32  \\\\\n",
    "   100 & 400 & 625 & 729 & 1024 \\\\\n",
    "   1000 & 8000 & 15625 & 19683 & 32768  \\\\\n",
    "   \\end{bmatrix}$$<br>\n",
    "   \n",
    "but, we want to make phi transpose for the convinience of our future calculation."
   ]
  },
  {
   "cell_type": "code",
   "execution_count": 17,
   "metadata": {
    "collapsed": false
   },
   "outputs": [
    {
     "name": "stdout",
     "output_type": "stream",
     "text": [
      "PHI =\n",
      "[[    1    10   100  1000]\n",
      " [    1    20   400  8000]\n",
      " [    1    25   625 15625]\n",
      " [    1    27   729 19683]\n",
      " [    1    32  1024 32768]]\n"
     ]
    }
   ],
   "source": [
    "#step3-2: big_φを作る\n",
    "PHI = np.array(phi).T #make phi transpose\n",
    "print('PHI =')\n",
    "print(PHI)"
   ]
  },
  {
   "cell_type": "code",
   "execution_count": 23,
   "metadata": {
    "collapsed": false
   },
   "outputs": [
    {
     "name": "stdout",
     "output_type": "stream",
     "text": [
      "Ws =\n",
      "[  1.26651210e+03  -1.17876615e+02   4.78060018e+00  -6.55611824e-02]\n"
     ]
    }
   ],
   "source": [
    "#step4: 公式③からparameter \"w\" を求める \n",
    "tmp = np.linalg.inv(np.dot(PHI.T, PHI))\n",
    "WS = np.dot(np.dot(tmp, PHI.T), Y)\n",
    "print('Ws =')\n",
    "print(WS)"
   ]
  },
  {
   "cell_type": "markdown",
   "metadata": {},
   "source": [
    "From the result of step4, we got the values of the parameters, which are also coefficient of our function.<br>\n",
    "So, if we substitute the reslut for parameter 'WS', f(x) can be represented as\n",
    "\n",
    "<font size=\"3\">$$f(x) = 1.27x^0 - 1.18x^1 + 4.78x^2 - 6.56x^3$$</font><br>\n",
    "\n",
    "or simply<br>\n",
    "\n",
    "<font size=\"3\">$$f(x) = 1.27 - 1.18x + 4.78x^2 - 6.56x^3$$</font><br>\n"
   ]
  },
  {
   "cell_type": "code",
   "execution_count": 34,
   "metadata": {
    "collapsed": false,
    "scrolled": true
   },
   "outputs": [
    {
     "data": {
      "image/png": "[encoded data removed]",
      "text/plain": [
       "<matplotlib.figure.Figure at 0x1032811d0>"
      ]
     },
     "metadata": {},
     "output_type": "display_data"
    }
   ],
   "source": [
    "#step5: f(x)をプロット\n",
    "\n",
    "#f(x)の曲線を滑らかに描くために,今回はx=0からx=35の範囲で、0.1刻みに値をとる\n",
    "XX = np.arange(0,35,0.1)\n",
    "\n",
    "#各XXの値を関数f(x)に代入して,XXに対応するYYの値を算出する\n",
    "YY = [] \n",
    "for i in XX:\n",
    "    tmp = 0\n",
    "    for s,k in enumerate(WS):\n",
    "        tmp += k * (i**s)\n",
    "    YY.append(tmp)\n",
    "\n",
    "plt.plot(XX,YY,color='b')\n",
    "plt.scatter(X,Y, label='House Price', color='k', marker = '*', s = 30)\n",
    "plt.xlabel('Age of A House')\n",
    "plt.ylabel('Price of A House')\n",
    "plt.title('House Price in Pleasant Hill')\n",
    "plt.legend()\n",
    "plt.show()"
   ]
  },
  {
   "cell_type": "code",
   "execution_count": 35,
   "metadata": {
    "collapsed": false
   },
   "outputs": [
    {
     "name": "stdout",
     "output_type": "stream",
     "text": [
      "5.631764499168858\n"
     ]
    }
   ],
   "source": [
    "#step6: パラメーターの精度確認(平均的にどれくらいもとの値からずれているのかをしらべる)\n",
    "def f(X):\n",
    "    y = 0\n",
    "    for i, w in enumerate(WS):\n",
    "        y += w * (X ** i)\n",
    "    #print('f(x) =', y)\n",
    "    return y\n",
    "\n",
    "ERMS = 0\n",
    "for x, y in zip(X,Y):\n",
    "    #print('x =', x, 'y =', y)\n",
    "    ERMS += 0.5 * ((y - f(x))**2)\n",
    "    #print(ERMS)\n",
    "\n",
    "from math import sqrt\n",
    "ERMS = sqrt(ERMS/N)\n",
    "print(ERMS)"
   ]
  },
  {
   "cell_type": "code",
   "execution_count": null,
   "metadata": {
    "collapsed": false
   },
   "outputs": [],
   "source": []
  },
  {
   "cell_type": "code",
   "execution_count": null,
   "metadata": {
    "collapsed": false
   },
   "outputs": [],
   "source": []
  },
  {
   "cell_type": "code",
   "execution_count": null,
   "metadata": {
    "collapsed": true
   },
   "outputs": [],
   "source": []
  }
 ],
 "metadata": {
  "kernelspec": {
   "display_name": "Python 3",
   "language": "python",
   "name": "python3"
  },
  "language_info": {
   "codemirror_mode": {
    "name": "ipython",
    "version": 3
   },
   "file_extension": ".py",
   "mimetype": "text/x-python",
   "name": "python",
   "nbconvert_exporter": "python",
   "pygments_lexer": "ipython3",
   "version": "3.5.1"
  }
 },
 "nbformat": 4,
 "nbformat_minor": 0
}
